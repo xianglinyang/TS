{
 "cells": [
  {
   "cell_type": "code",
   "execution_count": 1,
   "metadata": {},
   "outputs": [],
   "source": [
    "import matplotlib.pyplot as plt\n",
    "import seaborn as sns\n",
    "import numpy as np\n",
    "from config import *"
   ]
  },
  {
   "cell_type": "code",
   "execution_count": 2,
   "metadata": {},
   "outputs": [],
   "source": [
    "record_time = np.zeros(int(T/PERIOD))\n",
    "for t in range(1, T+1):\n",
    "    if t % PERIOD == 0:\n",
    "        record_time[int(t/PERIOD)-1] = t"
   ]
  },
  {
   "cell_type": "code",
   "execution_count": 3,
   "metadata": {},
   "outputs": [],
   "source": [
    "def record(old_array, record_time, to_be_record, baseline, n, dataset, distribution, prob):\n",
    "    for t,v in zip(record_time, to_be_record):\n",
    "        if old_array is None:\n",
    "            old_array = np.array([baseline, n, dataset, distribution, prob, t, v])\n",
    "        else:\n",
    "            old_array = np.vstack((old_array, np.array([baseline, n, dataset, distribution, prob, t, v])))\n",
    "    return old_array"
   ]
  },
  {
   "cell_type": "code",
   "execution_count": 4,
   "metadata": {},
   "outputs": [],
   "source": [
    "all_data = None\n",
    "for BASELINE in BASELINES:\n",
    "    for N in Ns:\n",
    "        for DATASET in DATASETS:\n",
    "            for DISTRIBUTION in DISTRIBUTIONS:\n",
    "                if BASELINE == \"MOTS\":\n",
    "                    if DISTRIBUTION in [\"Gamma\", \"Poisson\"]:\n",
    "                        continue\n",
    "                if BASELINE in [\"TSGreedy\", \"ExpTS_plus\"]:\n",
    "                    for PROB in PROBS_fn(N):\n",
    "                        data = np.load(\"./results/{}-{}-{}-{}-{}.npy\".format(BASELINE, N, DATASET, DISTRIBUTION, round(PROB, 2)))\n",
    "                        all_data = record(all_data, record_time, data, BASELINE, N, DATASET, DISTRIBUTION, PROB)\n",
    "                else:\n",
    "                    data = np.load(\"./results/{}-{}-{}-{}-{}.npy\".format(BASELINE, N, DATASET, DISTRIBUTION, 1.0))\n",
    "                    all_data = record(all_data, record_time, data, BASELINE, N, DATASET, DISTRIBUTION, 1.0)"
   ]
  },
  {
   "cell_type": "code",
   "execution_count": null,
   "metadata": {},
   "outputs": [],
   "source": [
    "import pandas as pd\n",
    "eval_path = \"./results/results.xlsx\"\n",
    "col = np.array([\"baseline\", \"n\", \"dataset\", \"distribution\", \"prob\", \"t\", \"eval\"])\n",
    "df = pd.DataFrame(data, columns=col)\n",
    "df.to_excel(eval_path)"
   ]
  },
  {
   "cell_type": "code",
   "execution_count": null,
   "metadata": {},
   "outputs": [],
   "source": []
  }
 ],
 "metadata": {
  "kernelspec": {
   "display_name": "SV",
   "language": "python",
   "name": "python3"
  },
  "language_info": {
   "codemirror_mode": {
    "name": "ipython",
    "version": 3
   },
   "file_extension": ".py",
   "mimetype": "text/x-python",
   "name": "python",
   "nbconvert_exporter": "python",
   "pygments_lexer": "ipython3",
   "version": "3.7.12 | packaged by conda-forge | (default, Oct 26 2021, 06:08:53) \n[GCC 9.4.0]"
  },
  "orig_nbformat": 4,
  "vscode": {
   "interpreter": {
    "hash": "aa7a9f36e1a1e240450dbe9cc8f6d8df1d5301f36681fb271c44fdd883236b60"
   }
  }
 },
 "nbformat": 4,
 "nbformat_minor": 2
}

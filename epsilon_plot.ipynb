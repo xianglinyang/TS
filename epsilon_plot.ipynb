{
 "cells": [
  {
   "cell_type": "code",
   "execution_count": 1,
   "metadata": {},
   "outputs": [],
   "source": [
    "import numpy as np\n",
    "import matplotlib.pyplot as plt\n",
    "import os"
   ]
  },
  {
   "cell_type": "code",
   "execution_count": 2,
   "metadata": {},
   "outputs": [],
   "source": [
    "DISTRIBUTIONS = [\"Gaussian\", \"Bernoulli\", \"Poisson\", \"Gamma\"]\n",
    "BASELINE = [\"TSGreedy\"]\n",
    "PROBS = [1.0, 0.8, 0.5, 0.3, 0.2, 0.1, 0.05, 0.02]"
   ]
  },
  {
   "cell_type": "code",
   "execution_count": 3,
   "metadata": {},
   "outputs": [],
   "source": [
    "T = pow(10, 3)\n",
    "PERIOD = 50\n",
    "N = 10\n",
    "FOLDER = \"epsilon_results\"\n",
    "REPEAT = 936\n",
    "record_time = np.zeros(int(T/PERIOD))\n",
    "for t in range(1, T+1):\n",
    "    if t % PERIOD == 0:\n",
    "        record_time[int(t/PERIOD)-1] = t\n",
    "NAME_IN_PLOT = lambda name: f'ε-TS ε={name}'"
   ]
  },
  {
   "cell_type": "code",
   "execution_count": 7,
   "metadata": {},
   "outputs": [
    {
     "data": {
      "image/png": "[encoded data removed]",
      "text/html": [
       "<div style=\"vertical-align: middle;\"><strong>Set1</strong> </div><div class=\"cmap\"><img alt=\"Set1 colormap\" title=\"Set1\" style=\"border: 1px solid #555;\" src=\"data:image/png;base64,iVBORw0KGgoAAAANSUhEUgAAAgAAAABACAYAAABsv8+/AAAAE3RFWHRUaXRsZQBTZXQxIGNvbG9ybWFwG6zH/AAAABl0RVh0RGVzY3JpcHRpb24AU2V0MSBjb2xvcm1hcJAeV2QAAAAwdEVYdEF1dGhvcgBNYXRwbG90bGliIHYzLjYuMywgaHR0cHM6Ly9tYXRwbG90bGliLm9yZ9RFxVEAAAAydEVYdFNvZnR3YXJlAE1hdHBsb3RsaWIgdjMuNi4zLCBodHRwczovL21hdHBsb3RsaWIub3Jn+uNadgAAAXJJREFUeJzt1rFJA2AYAFF1CBHJBlbBMazEQlKkE7JGZrCxCQRs3MnaFax1it8PvPcmuPIuv243Pxf/3NPLaTphuevt63TCcg/n3XTCcoftfjphreP9dMFyH8/f0wnLPd69TScs937zOZ2w3NV0AADw9wwAAAQZAAAIMgAAEGQAACDIAABAkAEAgCADAABBBgAAggwAAAQZAAAIMgAAEGQAACDIAABAkAEAgCADAABBBgAAggwAAAQZAAAIMgAAEGQAACDIAABAkAEAgCADAABBBgAAggwAAAQZAAAIMgAAEGQAACDIAABAkAEAgCADAABBBgAAggwAAAQZAAAIMgAAEGQAACDIAABAkAEAgCADAABBBgAAggwAAAQZAAAIMgAAEGQAACDIAABAkAEAgCADAABBBgAAggwAAAQZAAAIMgAAEGQAACDIAABAkAEAgCADAABBBgAAggwAAAQZAAAIMgAAEGQAACDIAABAkAEAgKBfc6EMSuFnNvgAAAAASUVORK5CYII=\"></div><div style=\"vertical-align: middle; max-width: 514px; display: flex; justify-content: space-between;\"><div style=\"float: left;\"><div title=\"#e41a1cff\" style=\"display: inline-block; width: 1em; height: 1em; margin: 0; vertical-align: middle; border: 1px solid #555; background-color: #e41a1cff;\"></div> under</div><div style=\"margin: 0 auto; display: inline-block;\">bad <div title=\"#00000000\" style=\"display: inline-block; width: 1em; height: 1em; margin: 0; vertical-align: middle; border: 1px solid #555; background-color: #00000000;\"></div></div><div style=\"float: right;\">over <div title=\"#999999ff\" style=\"display: inline-block; width: 1em; height: 1em; margin: 0; vertical-align: middle; border: 1px solid #555; background-color: #999999ff;\"></div></div>"
      ],
      "text/plain": [
       "<matplotlib.colors.ListedColormap at 0x7fb7756830a0>"
      ]
     },
     "execution_count": 7,
     "metadata": {},
     "output_type": "execute_result"
    }
   ],
   "source": [
    "palette = plt.get_cmap('Set1')\n",
    "palette"
   ]
  },
  {
   "cell_type": "code",
   "execution_count": 8,
   "metadata": {},
   "outputs": [],
   "source": [
    "palette = plt.get_cmap('Set1')\n",
    "colormap = {\n",
    "    \"ε-TS ε=1.0\": palette(0),\n",
    "    \"ε-TS ε=0.8\": palette(1),\n",
    "    \"ε-TS ε=0.5\": palette(2),\n",
    "    \"ε-TS ε=0.3\": palette(3),\n",
    "    \"ε-TS ε=0.2\": palette(4),\n",
    "    \"ε-TS ε=0.1\": palette(5),\n",
    "    \"ε-TS ε=0.05\": palette(6),\n",
    "    \"ε-TS ε=0.02\": palette(7),\n",
    "}\n",
    "linestyle = \"solid\"\n",
    "# linestyles = {\n",
    "#     \"lower bound\": \"solid\",\n",
    "#     \"KL_UCB\":\"dotted\",\n",
    "#     \"KL_UCB_plus_plus\":\"dotted\",\n",
    "#     \"TS\":\"dashed\",\n",
    "#     \"MOTS\":\"dashdot\", \n",
    "#     \"ExpTS\":\"dashed\", \n",
    "#     \"ExpTS_plus\": \"dashdot\",\n",
    "#     \"TSGreedy\":\"solid\"\n",
    "# }"
   ]
  },
  {
   "cell_type": "code",
   "execution_count": 9,
   "metadata": {},
   "outputs": [],
   "source": [
    "def load_avg(BASELINE, N, DISTRIBUTION, PROB, T, repeat):\n",
    "    data = np.zeros((repeat, int(T/PERIOD)))\n",
    "    for i in range(repeat):\n",
    "        file = \"{}-{}-{}-{}-{}-{}.npy\".format(BASELINE, N, DISTRIBUTION, T, round(PROB, 2), i)\n",
    "        data_t = np.load(os.path.join(f'./{FOLDER}', file))\n",
    "        data[i] = data_t\n",
    "    return data"
   ]
  },
  {
   "cell_type": "code",
   "execution_count": 10,
   "metadata": {},
   "outputs": [],
   "source": [
    "DISTRIBUTION = \"Gaussian\""
   ]
  },
  {
   "cell_type": "code",
   "execution_count": null,
   "metadata": {},
   "outputs": [],
   "source": [
    "# Note that even in the OO-style, we use `.pyplot.figure` to create the Figure.\n",
    "fig, ax = plt.subplots(figsize=(5, 2.7))\n",
    "for PROB in PROBS:\n",
    "    data = load_avg(BASELINE, N, DISTRIBUTION, PROB, T, REPEAT)\n",
    "    percentile_5 = np.percentile(data, 5, axis=0)\n",
    "    percentile_95 = np.percentile(data, 95, axis=0)\n",
    "    means = data.mean(axis=0)\n",
    "    ax.plot(record_time, means, label=\"{}\".format(NAME_IN_PLOT(PROB)), color=colormap[BASELINE], linestyle=linestyle)\n",
    "    ax.fill_between(record_time, percentile_5, percentile_95, color=colormap[BASELINE], alpha=0.2)\n",
    "\n",
    "ax.set_xlabel('t')  # Add an x-label to the axes.\n",
    "ax.set_ylabel('regret')  # Add a y-label to the axes.\n",
    "ax.set_title(f'N={N} {DISTRIBUTION}')  # Add a title to the axes.\n",
    "ax.legend(loc=\"center left\",ncol=1, bbox_to_anchor=(-0.55, 0.5), bbox_transform=ax.transAxes)  # Add a legend.\n",
    "plt.savefig(\"epsilon_plot_results/{}_{}.pdf\".format(N, DISTRIBUTION),\n",
    "    dpi=300,\n",
    "    bbox_inches=\"tight\",\n",
    "    pad_inches=0.0,\n",
    "    )"
   ]
  }
 ],
 "metadata": {
  "kernelspec": {
   "display_name": "base",
   "language": "python",
   "name": "python3"
  },
  "language_info": {
   "codemirror_mode": {
    "name": "ipython",
    "version": 3
   },
   "file_extension": ".py",
   "mimetype": "text/x-python",
   "name": "python",
   "nbconvert_exporter": "python",
   "pygments_lexer": "ipython3",
   "version": "3.10.8"
  },
  "orig_nbformat": 4
 },
 "nbformat": 4,
 "nbformat_minor": 2
}

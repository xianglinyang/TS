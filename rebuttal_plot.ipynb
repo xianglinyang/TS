{
 "cells": [
  {
   "cell_type": "code",
   "execution_count": 1,
   "metadata": {},
   "outputs": [],
   "source": [
    "import numpy as np\n",
    "import os\n",
    "import pandas as pd"
   ]
  },
  {
   "cell_type": "code",
   "execution_count": 2,
   "metadata": {},
   "outputs": [],
   "source": [
    "T = 2*pow(10, 3)\n",
    "PERIOD = 200\n",
    "N = 500\n",
    "DISTRIBUTIONS = [\"Gaussian\", \"Bernoulli\"]\n",
    "BASELINES = [\"KL_UCB\",  \"KL_UCB_plus_plus\",\"TS\", \"MOTS\", \"ExpTS_plus\", \"TSGreedy\"]"
   ]
  },
  {
   "cell_type": "code",
   "execution_count": 3,
   "metadata": {},
   "outputs": [],
   "source": [
    "# New Config\n",
    "PROBS_fn = lambda n: 1/n\n",
    "FOLDER = \"rebuttal_results\"\n",
    "REPEAT_T = {\n",
    "    \"TS\": [0, 936],\n",
    "    \"TSGreedy\": [0, 936],\n",
    "    \"MOTS\": [0, 936],\n",
    "    \"KL_UCB\": [0, 936],\n",
    "    \"KL_UCB_plus_plus\": [0, 936],\n",
    "    \"ExpTS\": [0,936],\n",
    "    \"ExpTS_plus\": [0,936]\n",
    "}\n",
    "\n",
    "NAME_IN_PLOT = {\n",
    "    \"TS\": \"TS\",\n",
    "    \"TSGreedy\": \"ε-TS\",\n",
    "    \"MOTS\": \"MOTS\",\n",
    "    \"KL_UCB\": \"KL-UCB\",\n",
    "    \"KL_UCB_plus_plus\": \"KL-UCB++\",\n",
    "    \"ExpTS\": \"ExpTS\",\n",
    "    \"ExpTS_plus\": \"ExpTS+\"\n",
    "}\n",
    "PROBS = {\n",
    "    \"TS\": 1.0,\n",
    "    \"TSGreedy\": PROBS_fn(N),\n",
    "    \"MOTS\": 1.0,\n",
    "    \"KL_UCB\": 1.0,\n",
    "    \"KL_UCB_plus_plus\": 1.0,\n",
    "    \"ExpTS\": 1.0,\n",
    "    \"ExpTS_plus\": PROBS_fn(N)\n",
    "\n",
    "}"
   ]
  },
  {
   "cell_type": "code",
   "execution_count": 4,
   "metadata": {},
   "outputs": [],
   "source": [
    "def load_avg(BASELINE, N, DISTRIBUTION, PROB, T, repeat):\n",
    "    data = np.zeros((repeat, int(T/PERIOD)))\n",
    "    for i in range(repeat):\n",
    "        file = \"{}-{}-{}-{}-{}-{}.npy\".format(BASELINE, N, DISTRIBUTION, T, round(PROB, 2), i)\n",
    "        data_t = np.load(os.path.join(\"./rebuttal_results\", file))\n",
    "        data[i] = data_t\n",
    "    return data"
   ]
  },
  {
   "cell_type": "code",
   "execution_count": 5,
   "metadata": {},
   "outputs": [],
   "source": [
    "cols = [\"baseline\",\"distribution\",\"800\",\"1200\", \"1600\", \"2000\"]\n",
    "df = pd.DataFrame({}, columns=cols)\n",
    "pick = [3,5,7,8]"
   ]
  },
  {
   "cell_type": "code",
   "execution_count": 6,
   "metadata": {},
   "outputs": [
    {
     "name": "stdout",
     "output_type": "stream",
     "text": [
      "KL_UCB Gaussian\n",
      "KL_UCB Bernoulli\n",
      "KL_UCB_plus_plus Gaussian\n",
      "KL_UCB_plus_plus Bernoulli\n",
      "TS Gaussian\n",
      "TS Bernoulli\n",
      "MOTS Gaussian\n",
      "MOTS Bernoulli\n",
      "ExpTS_plus Gaussian\n",
      "ExpTS_plus Bernoulli\n",
      "TSGreedy Gaussian\n",
      "TSGreedy Bernoulli\n"
     ]
    }
   ],
   "source": [
    "for BASELINE in BASELINES:\n",
    "    for DISTRIBUTION in DISTRIBUTIONS:\n",
    "        PROB = PROBS[BASELINE]\n",
    "        REPEAT = REPEAT_T[BASELINE][1]\n",
    "        data = load_avg(BASELINE, N, DISTRIBUTION, PROB,T, REPEAT)\n",
    "        data = data[:, pick]\n",
    "        vars = data.var(axis=0)\n",
    "        percentile_5 = np.percentile(data, 5, axis=0)\n",
    "        percentile_95 = np.percentile(data, 95, axis=0)\n",
    "        means = data.mean(axis=0)\n",
    "        print(BASELINE, DISTRIBUTION)\n",
    "\n",
    "        data_t = np.array([BASELINE, DISTRIBUTION])\n",
    "        for i, (m, p5,p95, var) in enumerate(zip(means, percentile_5, percentile_95, vars)):\n",
    "            data_t = np.concatenate((data_t, np.array([f'{m:.1f}({p5:.1f} {p95:.1f})'])), axis=0)\n",
    "            \n",
    "        df.loc[len(df.index)] = data_t"
   ]
  },
  {
   "cell_type": "code",
   "execution_count": 7,
   "metadata": {},
   "outputs": [
    {
     "name": "stdout",
     "output_type": "stream",
     "text": [
      "| baseline         | 800                | 1200                  | 1600                  | 2000                  |\n",
      "|:-----------------|:-------------------|:----------------------|:----------------------|:----------------------|\n",
      "| KL_UCB           | 594.2(590.0 598.0) | 1383.4(1372.0 1394.0) | 2161.4(2136.0 2184.0) | 2543.8(2508.0 2574.0) |\n",
      "| KL_UCB_plus_plus | 525.1(253.5 598.0) | 763.5(253.5 1396.0)   | 919.0(253.5 2196.0)   | 996.8(253.5 2596.0)   |\n",
      "| TS               | 583.4(558.0 598.0) | 1289.9(1178.0 1386.5) | 1761.3(1569.5 2012.0) | 1905.5(1705.5 2160.0) |\n",
      "| MOTS             | 585.8(568.0 598.0) | 1318.4(1225.5 1390.0) | 1865.2(1688.0 2096.0) | 2044.4(1846.0 2299.0) |\n",
      "| ExpTS_plus       | 336.8(222.0 600.0) | 609.7(458.0 1359.0)   | 815.5(652.0 1497.5)   | 899.7(734.0 1558.0)   |\n",
      "| TSGreedy         | 185.4(50.0 600.0)  | 274.6(92.0 1398.0)    | 337.4(130.0 1454.0)   | 363.7(146.0 1455.5)   |\n"
     ]
    }
   ],
   "source": [
    "df_tmp = df[df.distribution==\"Gaussian\"]\n",
    "df_tmp = df_tmp.drop(columns=[\"distribution\"])\n",
    "print(df_tmp.to_markdown(index=False))"
   ]
  },
  {
   "cell_type": "code",
   "execution_count": 8,
   "metadata": {},
   "outputs": [
    {
     "name": "stdout",
     "output_type": "stream",
     "text": [
      "| baseline         | 800                | 1200               | 1600               | 2000               |\n",
      "|:-----------------|:-------------------|:-------------------|:-------------------|:-------------------|\n",
      "| KL_UCB           | 148.3(145.0 149.5) | 348.3(345.0 349.5) | 548.3(545.0 549.5) | 648.3(645.0 649.5) |\n",
      "| KL_UCB_plus_plus | 148.3(145.0 149.5) | 348.3(345.0 349.5) | 548.3(545.0 549.5) | 648.3(645.0 649.5) |\n",
      "| TS               | 147.7(142.5 150.0) | 345.2(336.5 350.0) | 541.9(529.0 549.5) | 639.4(623.4 649.0) |\n",
      "| MOTS             | 148.8(147.5 150.0) | 347.7(345.0 350.0) | 545.4(540.5 549.0) | 643.9(637.9 649.0) |\n",
      "| ExpTS_plus       | 148.4(145.0 150.0) | 303.2(260.4 350.0) | 426.8(361.5 549.0) | 484.9(410.0 649.0) |\n",
      "| TSGreedy         | 122.2(83.0 150.0)  | 198.4(97.5 350.0)  | 262.3(113.0 550.0) | 291.4(120.5 650.0) |\n"
     ]
    }
   ],
   "source": [
    "df_tmp = df[df.distribution==\"Bernoulli\"]\n",
    "df_tmp = df_tmp.drop(columns=[\"distribution\"])\n",
    "print(df_tmp.to_markdown(index=False))"
   ]
  }
 ],
 "metadata": {
  "kernelspec": {
   "display_name": "base",
   "language": "python",
   "name": "python3"
  },
  "language_info": {
   "codemirror_mode": {
    "name": "ipython",
    "version": 3
   },
   "file_extension": ".py",
   "mimetype": "text/x-python",
   "name": "python",
   "nbconvert_exporter": "python",
   "pygments_lexer": "ipython3",
   "version": "3.10.8"
  },
  "orig_nbformat": 4,
  "vscode": {
   "interpreter": {
    "hash": "0ef55473ff71527bbfc792f413d7554aeeebc6f2c2da8dfa8f5e682a10e7e7cf"
   }
  }
 },
 "nbformat": 4,
 "nbformat_minor": 2
}
